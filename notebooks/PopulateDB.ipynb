{
 "cells": [
  {
   "cell_type": "code",
   "execution_count": 1,
   "metadata": {},
   "outputs": [],
   "source": [
    "import time\n",
    "\n",
    "from pprint import pprint\n",
    "from tqdm import tqdm\n",
    "from neo4j import GraphDatabase\n"
   ]
  },
  {
   "cell_type": "code",
   "execution_count": 2,
   "metadata": {},
   "outputs": [],
   "source": [
    "class Neo4jConnection:\n",
    "    \n",
    "    def __init__(self, uri, user, pwd):\n",
    "        self.__uri = uri\n",
    "        self.__user = user\n",
    "        self.__pwd = pwd\n",
    "        self.__driver = None\n",
    "        try:\n",
    "            self.__driver = GraphDatabase.driver(self.__uri, auth=(self.__user, self.__pwd))\n",
    "        except Exception as e:\n",
    "            print(\"Failed to create the driver:\", e)\n",
    "        \n",
    "    def close(self):\n",
    "        if self.__driver is not None:\n",
    "            self.__driver.close()\n",
    "        \n",
    "    def query(self, query, parameters=None, db=None):\n",
    "        assert self.__driver is not None, \"Driver not initialized!\"\n",
    "        session = None\n",
    "        response = None\n",
    "        try: \n",
    "            session = self.__driver.session(database=db) if db is not None else self.__driver.session() \n",
    "            response = list(session.run(query, parameters))\n",
    "        except Exception as e:\n",
    "            print(\"Query failed:\", e)\n",
    "        finally: \n",
    "            if session is not None:\n",
    "                session.close()\n",
    "        return response\n"
   ]
  },
  {
   "cell_type": "code",
   "execution_count": 3,
   "metadata": {},
   "outputs": [],
   "source": [
    "conn = Neo4jConnection(uri=\"bolt://neo4j:7687\", user=\"neo4j\", pwd=\"uom-pkg\")\n"
   ]
  },
  {
   "cell_type": "code",
   "execution_count": 4,
   "metadata": {},
   "outputs": [
    {
     "data": {
      "text/plain": [
       "[]"
      ]
     },
     "execution_count": 4,
     "metadata": {},
     "output_type": "execute_result"
    }
   ],
   "source": [
    "conn.query('CREATE CONSTRAINT q_value IF NOT EXISTS ON (n:Node) ASSERT n.id IS UNIQUE')"
   ]
  },
  {
   "cell_type": "code",
   "execution_count": 5,
   "metadata": {},
   "outputs": [
    {
     "name": "stdout",
     "output_type": "stream",
     "text": [
      "<Record x=<Node id=0 labels=frozenset({'university'}) properties={'name': 'Cornell University'}>>\n",
      "<Record x=<Node id=1 labels=frozenset({'university'}) properties={'name': 'Yale University'}>>\n",
      "<Record x=<Node id=2 labels=frozenset({'university'}) properties={'name': 'Princeton University'}>>\n",
      "<Record x=<Node id=3 labels=frozenset({'university'}) properties={'name': 'Harvard University'}>>\n"
     ]
    }
   ],
   "source": [
    "cqlNodeQuery          = \"MATCH (x:university) RETURN x\"\n",
    "\n",
    "cqlCreate = \"\"\"CREATE (cornell:university { name: \"Cornell University\"}),\n",
    "(yale:university { name: \"Yale University\"}),\n",
    "(princeton:university { name: \"Princeton University\"}),\n",
    "(harvard:university { name: \"Harvard University\"}),\n",
    "\n",
    "(cornell)-[:connects_in {miles: 259}]->(yale),\n",
    "(cornell)-[:connects_in {miles: 210}]->(princeton),\n",
    "(cornell)-[:connects_in {miles: 327}]->(harvard),\n",
    "\n",
    "(yale)-[:connects_in {miles: 259}]->(cornell),\n",
    "(yale)-[:connects_in {miles: 133}]->(princeton),\n",
    "(yale)-[:connects_in {miles: 133}]->(harvard),\n",
    "\n",
    "(harvard)-[:connects_in {miles: 327}]->(cornell),\n",
    "(harvard)-[:connects_in {miles: 133}]->(yale),\n",
    "(harvard)-[:connects_in {miles: 260}]->(princeton),\n",
    "\n",
    "(princeton)-[:connects_in {miles: 210}]->(cornell),\n",
    "(princeton)-[:connects_in {miles: 133}]->(yale),\n",
    "(princeton)-[:connects_in {miles: 260}]->(harvard)\"\"\"\n",
    "\n",
    "conn.query(cqlCreate)\n",
    "nodes = conn.query(cqlNodeQuery)\n",
    "for node in nodes:\n",
    "    print(node)\n"
   ]
  },
  {
   "cell_type": "code",
   "execution_count": 18,
   "metadata": {},
   "outputs": [
    {
     "data": {
      "text/plain": [
       "[]"
      ]
     },
     "execution_count": 18,
     "metadata": {},
     "output_type": "execute_result"
    }
   ],
   "source": [
    "cqlCreate2 = \"\"\"\n",
    "CREATE (VariableAssignment:KnowledgeUnit {externalId: 1,\n",
    "name: \"VariableAssignment\",\n",
    "description: \"You can assign a value to a variable to use that value in different operations.\", \n",
    "code_example: \"x = 23\n",
    "size = 120\n",
    "name = ’Joe’\", \n",
    "exercise: \"Create a variable, name it to max_speed and assign 130 to it.\"}),\n",
    "\n",
    "(Literals:KnowledgeUnit { externalId: 2,\n",
    "name: \"Literals\",\n",
    "description: \"Quantities/ notations whose value does not change during the execution of a program. Also known as constants. \n",
    "String Literals\n",
    "Numeric Literals\n",
    "Boolean Literals\n",
    "Literal Collections\n",
    "Special Literals\", \n",
    "code_example: \"423\n",
    "-87\n",
    "True\", \n",
    "exercise: \"Use numeric literals to calculate 5 multiplied by 8.\"}),\n",
    "\n",
    "(VariableAssignment)-[:uses]->(Literals)\n",
    "\n",
    "\"\"\"\n",
    "conn.query(cqlCreate2)\n"
   ]
  },
  {
   "cell_type": "code",
   "execution_count": 9,
   "metadata": {},
   "outputs": [
    {
     "data": {
      "text/plain": [
       "[]"
      ]
     },
     "execution_count": 9,
     "metadata": {},
     "output_type": "execute_result"
    }
   ],
   "source": [
    "cqlCreate3 = \"\"\"\n",
    "CREATE (Introduction:KnowledgeUnit { externalId: 1,\n",
    "name: \"Introduction\",\n",
    "description: \"It needs to be started somewhere: Python is a programming language. It is named after the BBC show Monty Python’s Flying Circus\",\n",
    "timeInstances: [\"3.8\", \"3.9\"]}),\n",
    "\n",
    "(Literal:KnowledgeUnit { externalId: 2,\n",
    "name: \"Literal\",\n",
    "description: \"Quantities/ notations whose value does not change during the execution of a program. Also known as constants. \n",
    "String Literals\n",
    "Numeric Literals\n",
    "Boolean Literals\n",
    "Literal Collections\n",
    "Special Literals\",\n",
    "timeInstances: [\"*\"]}),\n",
    "\n",
    "(WriteToConsole:KnowledgeUnit { externalId: 3,\n",
    "name: \"WriteToConsole\",\n",
    "description: \"Print the specified message to the screen, or other standard output device. The message can be a string, or any other object, the object will be converted into a string before written to the screen.\",\n",
    "timeInstances: [\"*\"],\n",
    "evokers: [\"print\"]}),\n",
    "\n",
    "(DetermineObjectType:KnowledgeUnit { externalId: 4,\n",
    "name: \"DetermineObjectType\",\n",
    "description: \"The type of a Python object determines what kind of object it is; every object has a type. An object’s type is accessible as its __class__ attribute or can be retrieved with type(obj).\",\n",
    "timeInstances: [\"*\"],\n",
    "evokers: [\"type\"]}),\n",
    "\n",
    "(ListDataType:KnowledgeUnit { externalId: 5,\n",
    "name: \"ListDataType\",\n",
    "description: \"Lists are iterable objects. How to set a list element, how to delete a list element and how to get a list element.\",\n",
    "timeInstances: [\"*\"],\n",
    "evokers: [\"[\", \"]\"]}),\n",
    "\n",
    "(ForLoop:KnowledgeUnit { externalId: 6,\n",
    "name: \"ForLoop\",\n",
    "description: \"It iterates over an iterable object, capturing each element to a local variable for use by the attached block.\",\n",
    "timeInstances: [\"*\"],\n",
    "evokers: [\"for\", \"in\"]}),\n",
    "\n",
    "(CodeBlock:KnowledgeUnit { externalId: 7,\n",
    "name: \"CodeBlock\",\n",
    "description: \"Program code that belongs together. Python uses whitespace indentation, rather than curly brackets or keywords, to delimit blocks. An increase in indentation comes after certain statements; a decrease in indentation signifies the end of the current block. Thus, the program's visual structure accurately represents its semantic structure.\",\n",
    "timeInstances: [\"*\"],\n",
    "evokers: [\"\"]}),\n",
    "\n",
    "(AssignmentStatement:KnowledgeUnit { externalId: 8,\n",
    "name: \"AssignmentStatement\",\n",
    "description: \"The assignment statement (=) binds a name as a reference to a separate, dynamically allocated object. Variables may subsequently be rebound at any time to any object.\",\n",
    "timeInstances: [\"*\"],\n",
    "evokers: [\"=\"]}),\n",
    "\n",
    "(Statement:KnowledgeUnit { externalId: 9,\n",
    "name: \"Statement\",\n",
    "description: \"In computer programming, a statement is a syntactic unit of an imperative programming language that expresses some action to be carried out. A program written in such a language is formed by a sequence of one or more statements. A statement may have internal components (e.g. expressions).\",\n",
    "timeInstances: [\"*\"],\n",
    "evokers: [\"\"]}),\n",
    "\n",
    "(StringLiteral:KnowledgeUnit { externalId: 10,\n",
    "name: \"StringLiteral\",\n",
    "description: \"A string literal or anonymous string is a literal for a string value in the source code of a computer program. Modern programming languages commonly use a quoted sequence of characters, formally 'bracketed delimiters', as in x = 'foo', where 'foo' is a string literal with value foo. \",\n",
    "timeInstances: [\"*\"],\n",
    "evokers: [\"\"]}),\n",
    "\n",
    "(StringDataType:KnowledgeUnit { externalId: 11,\n",
    "name: \"StringDataType\",\n",
    "description: \"String variables - which are also called alphanumeric variables or character variables -- have values that are treated as text.\",\n",
    "timeInstances: [\"*\"],\n",
    "evokers: [\"\"]}),\n",
    "\n",
    "(Variable:KnowledgeUnit { externalId: 12,\n",
    "name: \"Variable\",\n",
    "description: \"Value storage\",\n",
    "timeInstances: [\"*\"],\n",
    "evokers: \"=\"}),\n",
    "\n",
    "(WhileLoop:KnowledgeUnit { externalId: 13,\n",
    "name: \"WhileLoop\",\n",
    "description: \"Executes a block of code as long as its condition is true.\",\n",
    "timeInstances: [\"*\"],\n",
    "evokers: \"while\"}),\n",
    "\n",
    "(Condition:KnowledgeUnit { externalId: 14,\n",
    "name: \"Condition\",\n",
    "description: \"Conditionally executes a block of code.\",\n",
    "timeInstances: [\"*\"],\n",
    "evokers: \"if\"}),\n",
    "\n",
    "(VariableNaming:KnowledgeUnit { externalId: 21,\n",
    "name: \"VariableNaming\",\n",
    "description: \"Use  long speaking names for variables. Shorter temporary names can be used in longer formulas to achieve clean and understandable code at the same time.\",\n",
    "timeInstances: [\"*\"],\n",
    "evokers: \"=\"}),\n",
    "\n",
    "\n",
    "(VariableAssignment:KnowledgeUnit { externalId: 22,\n",
    "name: \"VariableAssignment\",\n",
    "description: \"You can assign a value to a variable to use that value in different operations.\",\n",
    "timeInstances: [\"3.8\", \"3.9\"],\n",
    "evokers: \"=\"}),\n",
    "\n",
    "(Algorithm:KnowledgeUnit { externalId: 23,\n",
    "name: \"Algorithm\",\n",
    "description: \"A list set of instructions, used to solve problems or perform tasks, based on the understanding of available alternatives.\",\n",
    "timeInstances: [\"*\"],\n",
    "evokers: [\"\"]}),\n",
    "\n",
    "(ModifyACollectionWithCopy:KnowledgeUnit { externalId: 24,\n",
    "name: \"ModifyACollectionWithCopy\",\n",
    "description: \" Strategy1:  Iterate over a copy; Strategy2:  Create a new collection\",\n",
    "timeInstances: [\"*\"],\n",
    "evokers: [\"\"]}),\n",
    "\n",
    "\n",
    "(Literal)-[:prerequisite_of]->(VariableAssignment),\n",
    "(AssignmentStatement)-[:prerequisite_of]->(VariableAssignment),\n",
    "(VariableAssignment)-[:prerequisite_of]->(ListDataType),\n",
    "(ListDataType)-[:prerequisite_of]->(ForLoop),\n",
    "(VariableAssignment)-[:prerequisite_of]->(ForLoop),\n",
    "(CodeBlock)-[:prerequisite_of]->(ForLoop),\n",
    "(CodeBlock)-[:prerequisite_of]->(WhileLoop),\n",
    "(Condition)-[:prerequisite_of]->(WhileLoop),\n",
    "(CodeBlock)-[:prerequisite_of]->(Condition),\n",
    "(StringLiteral)-[:prerequisite_of]->(StringDataType),\n",
    "(StringDataType)-[:prerequisite_of]->(WriteToConsole),\n",
    "(VariableAssignment)-[:prerequisite_of]->(DetermineObjectType),\n",
    "(Variable)-[:prerequisite_of]->(VariableNaming),\n",
    "(VariableAssignment)-[:prerequisite_of]->(VariableNaming),\n",
    "\n",
    "(ForLoop)-[:prerequisite_of]->(ModifyACollectionWithCopy),\n",
    "(Condition)-[:prerequisite_of]->(ModifyACollectionWithCopy),\n",
    "(ListDataType)-[:prerequisite_of]->(ModifyACollectionWithCopy),\n",
    "\n",
    "(ForLoop)-[:is_a]->(Statement),\n",
    "(WhileLoop)-[:is_a]->(Statement),\n",
    "(AssignmentStatement)-[:is_a]->(Statement),\n",
    "(StringLiteral)-[:is_a]->(Literal),\n",
    "(ModifyACollectionWithCopy)-[:is_a]->(Algorithm),\n",
    "\n",
    "(Test456:TestUnit { externalId: 456,\n",
    "description: \"One type of variable assignment test.\",\n",
    "url: \"https://localhost/uom-python-test/\",\n",
    "timeInstances: [\"3.9\"]}),\n",
    "\n",
    "(Test678:TestUnit { externalId: 678,\n",
    "description: \"Another type of test\",\n",
    "url: \"https://localhost/uom-python-test/\",\n",
    "timeInstances: [\"3.8\"]}),\n",
    "\n",
    "(Test456)-[:tests]->(VariableAssignment),\n",
    "(Test678)-[:tests]->(VariableAssignment),\n",
    "\n",
    "(Material123:MaterialUnit { externalId: 123,\n",
    "description: \"Some introduction to version 3.8.*\",\n",
    "url: \"https://localhost/uom-python-material/\",\n",
    "timeInstances: [\"3.8\"]}),\n",
    "\n",
    "(Material234:MaterialUnit { externalId: 234,\n",
    "description: \"Intro text to version 3.9.*\",\n",
    "url: \"https://localhost/uom-python-material/\",\n",
    "timeInstances: [\"3.9\"]}),\n",
    "\n",
    "(Material235:MaterialUnit { externalId: 235,\n",
    "description: \"Intro text to version 3.10.*\",\n",
    "url: \"https://localhost/uom-python-material/\",\n",
    "timeInstances: [\"3.10\"]}),\n",
    "\n",
    "(Material123)-[:material_of]->(Introduction),\n",
    "(Material234)-[:material_of]->(Introduction),\n",
    "(Material235)-[:material_of]->(Introduction)\n",
    "\n",
    "\n",
    "\n",
    "\n",
    "\"\"\"\n",
    "conn.query(cqlCreate3)\n"
   ]
  },
  {
   "cell_type": "code",
   "execution_count": 6,
   "metadata": {},
   "outputs": [
    {
     "name": "stdout",
     "output_type": "stream",
     "text": [
      "Apple\n",
      "Banana\n",
      "Lemon\n",
      "Grapes\n"
     ]
    }
   ],
   "source": [
    "fruits = [\"Apple\", \"Banana\", \"Lemon\", \"Grapes\" ]\n",
    "for fruit in fruits:\n",
    "    print(fruit)"
   ]
  },
  {
   "cell_type": "code",
   "execution_count": null,
   "metadata": {},
   "outputs": [],
   "source": []
  }
 ],
 "metadata": {
  "kernelspec": {
   "display_name": "Python 3 (ipykernel)",
   "language": "python",
   "name": "python3"
  },
  "language_info": {
   "codemirror_mode": {
    "name": "ipython",
    "version": 3
   },
   "file_extension": ".py",
   "mimetype": "text/x-python",
   "name": "python",
   "nbconvert_exporter": "python",
   "pygments_lexer": "ipython3",
   "version": "3.10.10"
  }
 },
 "nbformat": 4,
 "nbformat_minor": 4
}